{
 "cells": [
  {
   "cell_type": "code",
   "execution_count": 6,
   "metadata": {},
   "outputs": [],
   "source": [
    "import findspark\n",
    "from pyspark import SparkContext\n",
    "from pyspark.sql import *\n",
    "from pyspark.sql.functions import *\n",
    "from pyspark.sql.window import *\n",
    "from pyspark.ml.feature import Tokenizer, StopWordsRemover "
   ]
  },
  {
   "cell_type": "code",
   "execution_count": null,
   "metadata": {},
   "outputs": [],
   "source": [
    "findspark.init()\n",
    "spark = SparkSession.builder.getOrCreate()"
   ]
  },
  {
   "cell_type": "code",
   "execution_count": 3,
   "metadata": {},
   "outputs": [],
   "source": [
    "df = (spark.read \n",
    "    .format(\"jdbc\") \n",
    "    .option(\"url\", \"jdbc:postgresql://34.133.240.67/dbname\") \n",
    "    .option(\"dbtable\", \"public.movie_review_bronze\") \n",
    "    .option(\"user\", \"dbuser\")\n",
    "    .option(\"password\", \"dbpassword\") \n",
    "    .option(\"driver\", \"org.postgresql.Driver\")\n",
    "    .load())"
   ]
  },
  {
   "cell_type": "code",
   "execution_count": 4,
   "metadata": {},
   "outputs": [
    {
     "name": "stdout",
     "output_type": "stream",
     "text": [
      "root\n",
      " |-- cid: integer (nullable = true)\n",
      " |-- review_str: string (nullable = true)\n",
      "\n"
     ]
    }
   ],
   "source": [
    "#df.printSchema()"
   ]
  },
  {
   "cell_type": "code",
   "execution_count": 11,
   "metadata": {},
   "outputs": [],
   "source": [
    "\n",
    "tokenizer = Tokenizer(outputCol=\"words\")\n",
    "tokenizer.setInputCol(\"review_str\")\n",
    "\n",
    "remover = StopWordsRemover()\n",
    "remover.setInputCol(\"words\")\n",
    "remover.setOutputCol(\"clean_words\")\n",
    "\n",
    "\n",
    "df = tokenizer.transform(df)\n",
    "df = remover.transform(df)"
   ]
  },
  {
   "cell_type": "code",
   "execution_count": 12,
   "metadata": {},
   "outputs": [
    {
     "name": "stdout",
     "output_type": "stream",
     "text": [
      "root\n",
      " |-- cid: integer (nullable = true)\n",
      " |-- review_str: string (nullable = true)\n",
      " |-- words: array (nullable = true)\n",
      " |    |-- element: string (containsNull = true)\n",
      " |-- clean_words: array (nullable = true)\n",
      " |    |-- element: string (containsNull = true)\n",
      "\n"
     ]
    }
   ],
   "source": [
    "#df.printSchema()"
   ]
  },
  {
   "cell_type": "code",
   "execution_count": 16,
   "metadata": {},
   "outputs": [],
   "source": [
    "df = df.withColumn(\"positive_review\", array_contains(df.clean_words, \"good\").cast('integer'))"
   ]
  },
  {
   "cell_type": "code",
   "execution_count": 14,
   "metadata": {},
   "outputs": [
    {
     "name": "stdout",
     "output_type": "stream",
     "text": [
      "root\n",
      " |-- cid: integer (nullable = true)\n",
      " |-- review_str: string (nullable = true)\n",
      " |-- words: array (nullable = true)\n",
      " |    |-- element: string (containsNull = true)\n",
      " |-- clean_words: array (nullable = true)\n",
      " |    |-- element: string (containsNull = true)\n",
      " |-- positive_review: boolean (nullable = true)\n",
      "\n"
     ]
    }
   ],
   "source": [
    "#df.printSchema()"
   ]
  },
  {
   "cell_type": "code",
   "execution_count": 18,
   "metadata": {},
   "outputs": [
    {
     "data": {
      "text/plain": [
       "[Row(positive_review=0),\n",
       " Row(positive_review=0),\n",
       " Row(positive_review=0),\n",
       " Row(positive_review=1),\n",
       " Row(positive_review=0),\n",
       " Row(positive_review=0),\n",
       " Row(positive_review=0),\n",
       " Row(positive_review=1),\n",
       " Row(positive_review=1),\n",
       " Row(positive_review=0),\n",
       " Row(positive_review=0),\n",
       " Row(positive_review=0),\n",
       " Row(positive_review=1),\n",
       " Row(positive_review=1),\n",
       " Row(positive_review=0),\n",
       " Row(positive_review=0),\n",
       " Row(positive_review=0),\n",
       " Row(positive_review=0),\n",
       " Row(positive_review=0),\n",
       " Row(positive_review=1)]"
      ]
     },
     "execution_count": 18,
     "metadata": {},
     "output_type": "execute_result"
    }
   ],
   "source": [
    "#df.select(\"positive_review\").head(20)"
   ]
  },
  {
   "cell_type": "code",
   "execution_count": 20,
   "metadata": {},
   "outputs": [],
   "source": [
    "write_df = df.select(\"cid\", \"positive_review\")"
   ]
  },
  {
   "cell_type": "code",
   "execution_count": 21,
   "metadata": {},
   "outputs": [
    {
     "name": "stdout",
     "output_type": "stream",
     "text": [
      "root\n",
      " |-- cid: integer (nullable = true)\n",
      " |-- positive_review: integer (nullable = true)\n",
      "\n"
     ]
    }
   ],
   "source": [
    "#write_df.printSchema()"
   ]
  },
  {
   "cell_type": "code",
   "execution_count": 27,
   "metadata": {},
   "outputs": [],
   "source": [
    "table_name = \"reviews\"\n",
    "(write_df.write \n",
    "    .format(\"jdbc\") \n",
    "    .option(\"url\", \"jdbc:postgresql://34.133.240.67/dbname\") \n",
    "    .option(\"dbtable\", f\"silver.{table_name}\") \n",
    "    .option(\"user\", \"dbuser\")\n",
    "    .option(\"password\", \"dbpassword\") \n",
    "    .option(\"driver\", \"org.postgresql.Driver\")\n",
    "    .mode(\"overwrite\")\n",
    "    .option(\"truncate\", True)\n",
    "    .save())"
   ]
  },
  {
   "cell_type": "code",
   "execution_count": 28,
   "metadata": {},
   "outputs": [
    {
     "name": "stdout",
     "output_type": "stream",
     "text": [
      "saved table to postgres\n"
     ]
    }
   ],
   "source": [
    "print(\"saved table to postgres\")"
   ]
  },
  {
   "cell_type": "code",
   "execution_count": null,
   "metadata": {},
   "outputs": [],
   "source": []
  }
 ],
 "metadata": {
  "interpreter": {
   "hash": "4daa9c1c7481025b693f69f2269f20202023abe6f74fa12a2574814583d59e0e"
  },
  "kernelspec": {
   "display_name": "Python 3.9.7 64-bit",
   "language": "python",
   "name": "python3"
  },
  "language_info": {
   "codemirror_mode": {
    "name": "ipython",
    "version": 3
   },
   "file_extension": ".py",
   "mimetype": "text/x-python",
   "name": "python",
   "nbconvert_exporter": "python",
   "pygments_lexer": "ipython3",
   "version": "3.9.7"
  },
  "orig_nbformat": 4
 },
 "nbformat": 4,
 "nbformat_minor": 2
}
